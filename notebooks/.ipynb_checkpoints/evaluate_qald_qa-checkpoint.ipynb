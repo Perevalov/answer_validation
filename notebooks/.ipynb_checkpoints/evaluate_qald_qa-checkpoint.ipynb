{
 "cells": [
  {
   "cell_type": "code",
   "execution_count": 1,
   "metadata": {},
   "outputs": [],
   "source": [
    "import json\n",
    "import requests\n",
    "from tqdm import tqdm_notebook as tqdm"
   ]
  },
  {
   "cell_type": "code",
   "execution_count": 2,
   "metadata": {},
   "outputs": [],
   "source": [
    "headers = {\n",
    "    \"Content-Type\": \"application/json\",\n",
    "    'accept': 'application/json'\n",
    "}"
   ]
  },
  {
   "cell_type": "code",
   "execution_count": 3,
   "metadata": {},
   "outputs": [],
   "source": [
    "def json_load(name):\n",
    "    with open(f'{name}.json', 'r', encoding = 'utf-8') as f:\n",
    "        return json.load(f)\n",
    "    \n",
    "def json_save(name, item):\n",
    "    with open(f'{name}.json', 'w', encoding = 'utf-8') as f:\n",
    "        json.dump(item, f, ensure_ascii = False, indent = 2)"
   ]
  },
  {
   "cell_type": "code",
   "execution_count": 4,
   "metadata": {},
   "outputs": [],
   "source": [
    "main = json_load(\"../processed_data/QALD/qald-test-qa-dataset\")"
   ]
  },
  {
   "cell_type": "code",
   "execution_count": 5,
   "metadata": {},
   "outputs": [],
   "source": [
    "def precision_at_k(data, k=1):\n",
    "    # TODO: implement @k\n",
    "    assert k > 0\n",
    "    cnt = 0\n",
    "    for i in list(data.keys()):\n",
    "        if len(data[i]) > 0:\n",
    "            if data[i][0][0] == 1:\n",
    "                cnt += 1\n",
    "    return cnt / len(list(data.keys()))"
   ]
  },
  {
   "cell_type": "code",
   "execution_count": 6,
   "metadata": {},
   "outputs": [
    {
     "data": {
      "text/plain": [
       "0.06666666666666667"
      ]
     },
     "execution_count": 6,
     "metadata": {},
     "output_type": "execute_result"
    }
   ],
   "source": [
    "precision_at_k(main) # for initial set"
   ]
  },
  {
   "cell_type": "code",
   "execution_count": 9,
   "metadata": {},
   "outputs": [
    {
     "data": {
      "application/vnd.jupyter.widget-view+json": {
       "model_id": "2e9dd5c9796f460fae1ca8cd4905b64f",
       "version_major": 2,
       "version_minor": 0
      },
      "text/plain": [
       "HBox(children=(IntProgress(value=0, max=150), HTML(value='')))"
      ]
     },
     "metadata": {},
     "output_type": "display_data"
    },
    {
     "name": "stdout",
     "output_type": "stream",
     "text": [
      "\n"
     ]
    }
   ],
   "source": [
    "# filter answer candidates and create new dataset for evaluation\n",
    "\n",
    "new_main = dict()\n",
    "\n",
    "for i in tqdm(list(main.keys())):\n",
    "    answers = list()\n",
    "    tmp = list()\n",
    "    for tup in main[i]: # build q-a tuples set for a question\n",
    "        tmp.append([\n",
    "            tup[1][0], # question\n",
    "            tup[1][1] # answer\n",
    "        ])\n",
    "    \n",
    "    if len(tmp) > 0:\n",
    "        data = json.dumps(tmp)\n",
    "        json_response = requests.post('http://webengineering.ins.hs-anhalt.de:41003/predict',\n",
    "                                      data=data,\n",
    "                                       headers=headers)\n",
    "\n",
    "        preds = json_response.json()['predictions'] # get predictions for the q-a tuples set\n",
    "\n",
    "        for j in range(len(main[i])): # add only positive results to the new dataset\n",
    "            if preds[j] == 1:\n",
    "                answers.append(main[i][j])\n",
    "            \n",
    "    new_main[i] = answers"
   ]
  },
  {
   "cell_type": "code",
   "execution_count": 10,
   "metadata": {},
   "outputs": [
    {
     "data": {
      "text/plain": [
       "0.09333333333333334"
      ]
     },
     "execution_count": 10,
     "metadata": {},
     "output_type": "execute_result"
    }
   ],
   "source": [
    "precision_at_k(new_main, k=1) # for filtered set"
   ]
  },
  {
   "cell_type": "code",
   "execution_count": null,
   "metadata": {},
   "outputs": [],
   "source": []
  }
 ],
 "metadata": {
  "kernelspec": {
   "display_name": "Python 3",
   "language": "python",
   "name": "python3"
  },
  "language_info": {
   "codemirror_mode": {
    "name": "ipython",
    "version": 3
   },
   "file_extension": ".py",
   "mimetype": "text/x-python",
   "name": "python",
   "nbconvert_exporter": "python",
   "pygments_lexer": "ipython3",
   "version": "3.7.3"
  }
 },
 "nbformat": 4,
 "nbformat_minor": 2
}
