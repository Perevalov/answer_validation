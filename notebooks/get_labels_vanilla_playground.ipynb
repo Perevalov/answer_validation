{
 "cells": [
  {
   "cell_type": "code",
   "execution_count": 1,
   "metadata": {},
   "outputs": [],
   "source": [
    "import json\n",
    "import re\n",
    "import time\n",
    "from SPARQLWrapper import SPARQLWrapper, JSON\n",
    "import sqlite3\n",
    "from tqdm import tqdm_notebook as tqdm\n",
    "cache3 = sqlite3.connect('../processed_data/VANILLA/cache.db')"
   ]
  },
  {
   "cell_type": "code",
   "execution_count": 2,
   "metadata": {},
   "outputs": [],
   "source": [
    "def json_load(name):\n",
    "    with open(f'{name}', 'r', encoding = 'utf-8') as f:\n",
    "        return json.load(f)\n",
    "    \n",
    "def json_save(name, item):\n",
    "    with open(f'{name}', 'w', encoding = 'utf-8') as f:\n",
    "        json.dump(item, f, ensure_ascii = False, indent = 4)"
   ]
  },
  {
   "cell_type": "code",
   "execution_count": 3,
   "metadata": {},
   "outputs": [],
   "source": [
    "def get_labels_from_db(URI):\n",
    "    labels = list()\n",
    "    cursor = cache3.execute('SELECT value FROM main WHERE key=(?) LIMIT 1', (URI, ))\n",
    "    labels += cursor.fetchall()\n",
    "    \n",
    "    if len(labels) > 0:\n",
    "        return [l[0] for l in labels]\n",
    "    else:\n",
    "        return []"
   ]
  },
  {
   "cell_type": "code",
   "execution_count": 4,
   "metadata": {},
   "outputs": [],
   "source": [
    "def get_uris_from_response(response):\n",
    "    uris = list()\n",
    "    for r in response:\n",
    "        for k in list(r.keys()):\n",
    "            if 'wikidata' in r[k]:\n",
    "                uris.append(r[k])\n",
    "    \n",
    "    return uris"
   ]
  },
  {
   "cell_type": "code",
   "execution_count": 5,
   "metadata": {},
   "outputs": [],
   "source": [
    "def transform_prefix_uri_to_no_prefix(URIs):\n",
    "    transformed = list()\n",
    "    for URI in URIs:\n",
    "        if 'wdt:' in URI:\n",
    "            URI = URI.replace('wdt:', 'http://www.wikidata.org/prop/direct/')\n",
    "        elif 'wd:' in URI:\n",
    "            URI = URI.replace('wd:', 'http://www.wikidata.org/entity')\n",
    "        if '<' in URI and '>' in URI:\n",
    "            URI = URI.replace('<', '').replace('>', '')\n",
    "        transformed.append(URI)\n",
    "    return transformed"
   ]
  },
  {
   "cell_type": "code",
   "execution_count": 23,
   "metadata": {},
   "outputs": [],
   "source": [
    "# vanilla_5000 = json_load(\"../processed_data/VANILLA/vanilla_5000_evaluate.json\")\n",
    "all_test = list()\n",
    "with open(\"../processed_data/VANILLA/vanilla-all.json\", 'r', encoding = 'utf-8') as f:\n",
    "    for i in f:\n",
    "        all_test.append(json.loads(i))"
   ]
  },
  {
   "cell_type": "code",
   "execution_count": 24,
   "metadata": {},
   "outputs": [],
   "source": [
    "query = all_test[0]['SPARQL list'][0]['SPARQL']"
   ]
  },
  {
   "cell_type": "code",
   "execution_count": 25,
   "metadata": {},
   "outputs": [],
   "source": [
    "response = all_test[0]['SPARQL list'][0]['response']"
   ]
  },
  {
   "cell_type": "code",
   "execution_count": 26,
   "metadata": {},
   "outputs": [],
   "source": [
    "prefix_ents = re.findall(r\"(?<!\\S)wd\\S*:\\S+\", query)\n",
    "no_prefix_ents = re.findall(r\"<(.*?)>\", query)"
   ]
  },
  {
   "cell_type": "code",
   "execution_count": 27,
   "metadata": {},
   "outputs": [
    {
     "name": "stdout",
     "output_type": "stream",
     "text": [
      "['Claude Nicolas Emmery']\n",
      "['sex or gender']\n"
     ]
    }
   ],
   "source": [
    "for ent in no_prefix_ents:\n",
    "    print(get_labels_from_db(ent))"
   ]
  },
  {
   "cell_type": "code",
   "execution_count": null,
   "metadata": {},
   "outputs": [],
   "source": []
  },
  {
   "cell_type": "code",
   "execution_count": 32,
   "metadata": {},
   "outputs": [
    {
     "name": "stderr",
     "output_type": "stream",
     "text": [
      "/data/benchmarking_RuBQ/benchmarking_RuBQ-env/lib/python3.7/site-packages/ipykernel_launcher.py:2: TqdmDeprecationWarning: This function will be removed in tqdm==5.0.0\n",
      "Please use `tqdm.notebook.tqdm` instead of `tqdm.tqdm_notebook`\n",
      "  \n"
     ]
    },
    {
     "data": {
      "application/vnd.jupyter.widget-view+json": {
       "model_id": "3dcc2b1a94fe4ac48d8de514d3157a84",
       "version_major": 2,
       "version_minor": 0
      },
      "text/plain": [
       "HBox(children=(FloatProgress(value=0.0, max=8955.0), HTML(value='')))"
      ]
     },
     "metadata": {},
     "output_type": "display_data"
    },
    {
     "ename": "KeyError",
     "evalue": "'evaluate'",
     "output_type": "error",
     "traceback": [
      "\u001b[0;31m---------------------------------------------------------------------------\u001b[0m",
      "\u001b[0;31mKeyError\u001b[0m                                  Traceback (most recent call last)",
      "\u001b[0;32m<ipython-input-32-604829807a24>\u001b[0m in \u001b[0;36m<module>\u001b[0;34m\u001b[0m\n\u001b[1;32m     19\u001b[0m             \u001b[0mlabels\u001b[0m \u001b[0;34m+=\u001b[0m \u001b[0mget_labels_from_db\u001b[0m\u001b[0;34m(\u001b[0m\u001b[0ment\u001b[0m\u001b[0;34m)\u001b[0m\u001b[0;34m\u001b[0m\u001b[0;34m\u001b[0m\u001b[0m\n\u001b[1;32m     20\u001b[0m \u001b[0;34m\u001b[0m\u001b[0m\n\u001b[0;32m---> 21\u001b[0;31m         \u001b[0mcandidate_precision\u001b[0m \u001b[0;34m=\u001b[0m \u001b[0mint\u001b[0m\u001b[0;34m(\u001b[0m\u001b[0mcandidate\u001b[0m\u001b[0;34m[\u001b[0m\u001b[0;34m'evaluate'\u001b[0m\u001b[0;34m]\u001b[0m\u001b[0;34m[\u001b[0m\u001b[0;36m0\u001b[0m\u001b[0;34m]\u001b[0m\u001b[0;34m/\u001b[0m\u001b[0mcandidate\u001b[0m\u001b[0;34m[\u001b[0m\u001b[0;34m'evaluate'\u001b[0m\u001b[0;34m]\u001b[0m\u001b[0;34m[\u001b[0m\u001b[0;36m1\u001b[0m\u001b[0;34m]\u001b[0m\u001b[0;34m)\u001b[0m \u001b[0;32mif\u001b[0m \u001b[0mcandidate\u001b[0m\u001b[0;34m[\u001b[0m\u001b[0;34m'evaluate'\u001b[0m\u001b[0;34m]\u001b[0m\u001b[0;34m[\u001b[0m\u001b[0;36m1\u001b[0m\u001b[0;34m]\u001b[0m \u001b[0;32melse\u001b[0m \u001b[0;36m0\u001b[0m\u001b[0;34m\u001b[0m\u001b[0;34m\u001b[0m\u001b[0m\n\u001b[0m\u001b[1;32m     22\u001b[0m         \u001b[0;31m#candidate_precision = 0 if not response or len(response) == 0 else int(candidate['evaluate'][0]/candidate['evaluate'][1])\u001b[0m\u001b[0;34m\u001b[0m\u001b[0;34m\u001b[0m\u001b[0;34m\u001b[0m\u001b[0m\n\u001b[1;32m     23\u001b[0m         \u001b[0mis_true\u001b[0m \u001b[0;34m=\u001b[0m \u001b[0mcandidate_precision\u001b[0m \u001b[0;31m# False if candidate_precision < 0.5 else True\u001b[0m\u001b[0;34m\u001b[0m\u001b[0;34m\u001b[0m\u001b[0m\n",
      "\u001b[0;31mKeyError\u001b[0m: 'evaluate'"
     ]
    }
   ],
   "source": [
    "test_full_labels = list()\n",
    "for question in tqdm(all_test):\n",
    "    candidates_label_list = list()\n",
    "    for candidate in question['SPARQL list']:\n",
    "        query = candidate['SPARQL']\n",
    "        response = candidate['response']\n",
    "        \n",
    "        # retrieve URIs\n",
    "        prefix_ents = re.findall(r\"(?<!\\S)wd\\S*:\\S+\", query)\n",
    "        no_prefix_ents = re.findall(r\"<(.*?)>\", query)\n",
    "        if response:\n",
    "            no_prefix_ents += get_uris_from_response(response)\n",
    "        no_prefix_ents += transform_prefix_uri_to_no_prefix(prefix_ents)\n",
    "        del prefix_ents\n",
    "        \n",
    "        # get labels for the URIs\n",
    "        labels = list()\n",
    "        for ent in no_prefix_ents:\n",
    "            labels += get_labels_from_db(ent)\n",
    "        \n",
    "        candidate_precision = int(candidate['evaluate'][0]/candidate['evaluate'][1]) if candidate['evaluate'][1] else 0\n",
    "        #candidate_precision = 0 if not response or len(response) == 0 else int(candidate['evaluate'][0]/candidate['evaluate'][1])\n",
    "        is_true = candidate_precision # False if candidate_precision < 0.5 else True\n",
    "        candidates_label_list.append({'label': ' '.join(l for l in labels if l), 'is_true': is_true})\n",
    "    \n",
    "    test_full_labels.append({\n",
    "        'question': question['question'],\n",
    "        'question_id': question['question_id'],\n",
    "        'response': candidates_label_list\n",
    "    })"
   ]
  },
  {
   "cell_type": "code",
   "execution_count": 30,
   "metadata": {},
   "outputs": [],
   "source": [
    "json_save(\"../processed_data/VANILLA/full_test_evaluate_labels-int.json\", test_full_labels)"
   ]
  },
  {
   "cell_type": "code",
   "execution_count": 31,
   "metadata": {},
   "outputs": [
    {
     "data": {
      "text/plain": [
       "{'question': 'Which sex does Claude Nicolas Emmery possess ?',\n",
       " 'question_id': 58504,\n",
       " 'response': [{'label': 'Claude Nicolas Emmery sex or gender male',\n",
       "   'is_true': True},\n",
       "  {'label': 'Claude Lorrain sex or gender male', 'is_true': False},\n",
       "  {'label': 'Claude Nicolas Emmery', 'is_true': False},\n",
       "  {'label': 'Sextans', 'is_true': False},\n",
       "  {'label': 'sexual intercourse', 'is_true': False},\n",
       "  {'label': 'sex', 'is_true': False},\n",
       "  {'label': 'Claude sex or gender male organism', 'is_true': False},\n",
       "  {'label': 'Claude Lorrain', 'is_true': False},\n",
       "  {'label': 'Claude Nicolas', 'is_true': False},\n",
       "  {'label': 'Claude Nicolas sex or gender male', 'is_true': False},\n",
       "  {'label': 'Claude Nicolas Emmery instance of human', 'is_true': False},\n",
       "  {'label': 'Claude-Nicolas', 'is_true': False},\n",
       "  {'label': 'Claude sex or gender male', 'is_true': False},\n",
       "  {'label': 'Nicholas of Lyra sex or gender male', 'is_true': False},\n",
       "  {'label': 'Nicolas sex or gender male', 'is_true': False},\n",
       "  {'label': 'Claude Rains sex or gender', 'is_true': False},\n",
       "  {'label': 'Claude Nicolas Emmery instance of sex', 'is_true': False},\n",
       "  {'label': 'Nicolas sex or gender male', 'is_true': False},\n",
       "  {'label': 'N. de Baumgarten sex or gender male', 'is_true': False},\n",
       "  {'label': 'sex or gender', 'is_true': False},\n",
       "  {'label': 'Claude Nicolas Emmery sex', 'is_true': False},\n",
       "  {'label': 'Claude sex or gender male', 'is_true': False},\n",
       "  {'label': 'Claude Delaval Cobham sex or gender male', 'is_true': False},\n",
       "  {'label': 'Claude Nicolas instance of sex', 'is_true': False},\n",
       "  {'label': 'Nicola sex or gender male', 'is_true': False},\n",
       "  {'label': 'Claude Nicolas instance of', 'is_true': False},\n",
       "  {'label': 'Claude Nicolas Emmery occupation politician position held member of the French National Assembly sex or gender male award received Knight of the Legion of Honour given name Claude family name Emmery date of birth languages spoken, written or signed French Sycomore ID place of death Metz place of birth Metz instance of human country of citizenship France native language French date of death name in native language',\n",
       "   'is_true': False},\n",
       "  {'label': 'Claude Speed sex or gender male', 'is_true': False},\n",
       "  {'label': 'Claude sex or gender male', 'is_true': False},\n",
       "  {'label': 'Jean-Maxime Claude sex or gender male', 'is_true': False},\n",
       "  {'label': 'Eugène Claude sex or gender male', 'is_true': False},\n",
       "  {'label': 'Nicolás sex or gender male', 'is_true': False},\n",
       "  {'label': '(Léon Marie Joseph) Gustave Nicolas sex or gender male',\n",
       "   'is_true': False},\n",
       "  {'label': 'Claud sex or gender', 'is_true': False},\n",
       "  {'label': 'Nicola sex or gender male', 'is_true': False},\n",
       "  {'label': 'Nikki Mills sex or gender male', 'is_true': False},\n",
       "  {'label': 'Claude Nicolas Emmery', 'is_true': False},\n",
       "  {'label': 'sex Claude Nicolas Emmery instance of', 'is_true': False},\n",
       "  {'label': 'instance of sex Claude Nicolas Emmery instance of',\n",
       "   'is_true': False},\n",
       "  {'label': 'Claude sex or gender male organism', 'is_true': False},\n",
       "  {'label': 'sex or gender', 'is_true': False},\n",
       "  {'label': 'Claude sex or gender male', 'is_true': False},\n",
       "  {'label': 'Claude Nicolas sex', 'is_true': False},\n",
       "  {'label': 'Claude Nicolas Emmery sex or gender instance of male gender identity male sex of humans',\n",
       "   'is_true': False},\n",
       "  {'label': 'Claude Nicolas Emmery sex or gender instance of male gender identity male sex of humans',\n",
       "   'is_true': False},\n",
       "  {'label': 'Claude-Nicolas instance of male given name', 'is_true': False},\n",
       "  {'label': 'Claude-Nicolas sex or gender Claude-Nicolas Le Cat given name male Claude-Nicolas Malapeau given name male',\n",
       "   'is_true': False},\n",
       "  {'label': 'Claude-Nicolas sex or gender Claude-Nicolas Le Cat given name male Claude-Nicolas Malapeau given name male',\n",
       "   'is_true': False},\n",
       "  {'label': 'instance of sex Claude Nicolas instance of', 'is_true': False},\n",
       "  {'label': 'Claude Nicolas Emmery instance of instance of human organisms known by a particular common name',\n",
       "   'is_true': False},\n",
       "  {'label': 'Claude Nicolas Emmery instance of instance of human organisms known by a particular common name',\n",
       "   'is_true': False},\n",
       "  {'label': 'Claude Nicolas place of birth Exincourt family name Nicolas sex or gender male occupation athletics competitor given name Claude sport athletics participant in 1968 Summer Olympics Track and Field Statistics male athlete ID instance of human country of citizenship France Olympedia athlete ID International Olympic Committee athlete ID French Athletics Federation athlete ID date of birth',\n",
       "   'is_true': False},\n",
       "  {'label': 'Claude Nicolas Emmery instance of place of death Metz commune of France place of birth Metz commune of France native language French modern language occupation politician profession country of citizenship France sovereign state country of citizenship France Mediterranean country instance of human organisms known by a particular common name sex or gender male gender identity languages spoken, written or signed French natural language languages spoken, written or signed French language country of citizenship France country country of citizenship France republic native language French natural language native language French language position held member of the French National Assembly position sex or gender male sex of humans award received Knight of the Legion of Honour grade of an order given name Claude unisex given name family name Emmery family name languages spoken, written or signed French modern language',\n",
       "   'is_true': False},\n",
       "  {'label': 'Claude Nicolas Emmery instance of place of death Metz commune of France place of birth Metz commune of France native language French modern language occupation politician profession country of citizenship France sovereign state country of citizenship France Mediterranean country instance of human organisms known by a particular common name sex or gender male gender identity languages spoken, written or signed French natural language languages spoken, written or signed French language country of citizenship France country country of citizenship France republic native language French natural language native language French language position held member of the French National Assembly position sex or gender male sex of humans award received Knight of the Legion of Honour grade of an order given name Claude unisex given name family name Emmery family name languages spoken, written or signed French modern language',\n",
       "   'is_true': False},\n",
       "  {'label': 'Nicolás Claude Nicolas sex or gender', 'is_true': False},\n",
       "  {'label': 'sex Claude Nicolas instance of', 'is_true': False},\n",
       "  {'label': 'Nicolae Claude Nicolas sex or gender', 'is_true': False},\n",
       "  {'label': 'Claude Nicolas', 'is_true': False},\n",
       "  {'label': 'Claude Nicolas sex or gender instance of male gender identity male sex of humans',\n",
       "   'is_true': False},\n",
       "  {'label': 'Claude Nicolas sex or gender instance of male gender identity male sex of humans',\n",
       "   'is_true': False}]}"
      ]
     },
     "execution_count": 31,
     "metadata": {},
     "output_type": "execute_result"
    }
   ],
   "source": [
    "test_full_labels[0]"
   ]
  },
  {
   "cell_type": "code",
   "execution_count": null,
   "metadata": {},
   "outputs": [],
   "source": []
  }
 ],
 "metadata": {
  "kernelspec": {
   "display_name": "Python 3",
   "language": "python",
   "name": "python3"
  },
  "language_info": {
   "codemirror_mode": {
    "name": "ipython",
    "version": 3
   },
   "file_extension": ".py",
   "mimetype": "text/x-python",
   "name": "python",
   "nbconvert_exporter": "python",
   "pygments_lexer": "ipython3",
   "version": "3.7.3"
  }
 },
 "nbformat": 4,
 "nbformat_minor": 4
}
