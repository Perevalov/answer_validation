{
 "cells": [
  {
   "cell_type": "code",
   "execution_count": null,
   "metadata": {
    "colab": {
     "base_uri": "https://localhost:8080/",
     "height": 54
    },
    "colab_type": "code",
    "id": "Q4MCWngFbCe_",
    "outputId": "7c7b6158-6d77-4da7-980a-38f5a4c18bbe"
   },
   "outputs": [],
   "source": [
    "import tensorflow as tf\n",
    "\n",
    "import os\n",
    "import random\n",
    "import json\n",
    "\n",
    "# load BERT modules\n",
    "from official import nlp\n",
    "import official.nlp.bert as bert\n",
    "import official.nlp.bert.tokenization as tokenization\n",
    "import official.nlp.bert.configs as configs\n",
    "import official.nlp.bert.bert_models as bert_models\n",
    "import official.nlp.optimization\n",
    "\n",
    "print(f'Tensorflow version {tf.__version__}')\n",
    "\n",
    "# disable warning messages\n",
    "tf.get_logger().setLevel('ERROR')"
   ]
  },
  {
   "cell_type": "code",
   "execution_count": null,
   "metadata": {},
   "outputs": [],
   "source": [
    "# data_path = ['media', 'data']\n",
    "data_path = ['D:\\\\', 'data']"
   ]
  },
  {
   "cell_type": "code",
   "execution_count": null,
   "metadata": {},
   "outputs": [],
   "source": [
    "def json_load(name):\n",
    "    with open(f'{name}.json', 'r', encoding = 'utf-8') as f:\n",
    "        return json.load(f)\n",
    "    \n",
    "def json_save(name, item):\n",
    "    with open(f'{name}.json', 'w', encoding = 'utf-8') as f:\n",
    "        json.dump(item, f, ensure_ascii = False, indent = 2)"
   ]
  },
  {
   "cell_type": "code",
   "execution_count": null,
   "metadata": {
    "colab": {
     "base_uri": "https://localhost:8080/",
     "height": 35
    },
    "colab_type": "code",
    "id": "eSnBrrAJIhB6",
    "outputId": "a5ad2255-65c2-4618-fee6-0bb73e6e07cf"
   },
   "outputs": [],
   "source": [
    "# make path from elements so it works both on windows and linux \n",
    "file_bert = ['pretrained', 'assets', 'vocab.txt']\n",
    "\n",
    "# set up tokenizer to generate Tensorflow dataset\n",
    "tokenizer = tokenization.FullTokenizer(vocab_file=os.path.join(*file_bert))\n",
    "\n",
    "print(f'Vocab size: {len(tokenizer.vocab)}')"
   ]
  },
  {
   "cell_type": "code",
   "execution_count": null,
   "metadata": {
    "colab": {
     "base_uri": "https://localhost:8080/",
     "height": 219
    },
    "colab_type": "code",
    "id": "kKd9iEyLe9jb",
    "outputId": "049c03ff-518a-4eb6-ee54-2a7b5587e839"
   },
   "outputs": [],
   "source": [
    "config_dict = {\n",
    "    'attention_probs_dropout_prob': 0.1,\n",
    "    'hidden_act': 'gelu',\n",
    "    'hidden_dropout_prob': 0.1,\n",
    "    'hidden_size': 768,\n",
    "    'initializer_range': 0.02,\n",
    "    'intermediate_size': 3072,\n",
    "    'max_position_embeddings': 512,\n",
    "    'num_attention_heads': 12,\n",
    "    'num_hidden_layers': 12,\n",
    "    'type_vocab_size': 2,\n",
    "    'vocab_size': 30522}\n",
    "\n",
    "bert_config = configs.BertConfig.from_dict(config_dict)"
   ]
  },
  {
   "cell_type": "code",
   "execution_count": null,
   "metadata": {},
   "outputs": [],
   "source": [
    "# convert sentence to tokens\n",
    "def encode_sentence(s):\n",
    "    tokens = list(tokenizer.tokenize(s)) + ['[SEP]']\n",
    "    return tokenizer.convert_tokens_to_ids(tokens)\n",
    "\n",
    "def encode_pair(q, a, max_size):\n",
    "    q_tok = ['[CLS]'] + tokenizer.tokenize(q) + ['[SEP]']\n",
    "    a_tok = tokenizer.tokenize(a) + ['[SEP]']\n",
    "    ids = tokenizer.convert_tokens_to_ids(q_tok + a_tok)\n",
    "    \n",
    "    if len(ids) > max_size:\n",
    "        raise IndexError('Too many tokens')\n",
    "    else:\n",
    "        inputs = {\n",
    "            'input_word_ids': ids + [0]*(max_size - len(ids)),\n",
    "            'input_mask': [1]*len(ids) + [0]*(max_size - len(ids)),\n",
    "            'input_type_ids': [0]*len(q_tok) + [1]*len(a_tok) + [0]*(max_size - len(ids))\n",
    "        }\n",
    "        \n",
    "        return inputs\n",
    "    \n",
    "assert(encode_sentence('Human is instance of animal') == [2529, 2003, 6013, 1997, 4111, 102])\n",
    "assert(\n",
    "    encode_pair('Who are you?', 'I am your dad.', 15)['input_word_ids'] ==\n",
    "    [101, 2040, 2024, 2017, 1029, 102, 1045, 2572, 2115, 3611, 1012, 102, 0, 0, 0]\n",
    ")"
   ]
  },
  {
   "cell_type": "code",
   "execution_count": null,
   "metadata": {},
   "outputs": [],
   "source": [
    "def bert_encode(class_0, class_1, tokenizer, size=0):\n",
    "    random.shuffle(class_0[:size] if size else class_0)\n",
    "    random.shuffle(class_1[:size] if size else class_1)\n",
    "\n",
    "    labels = [0]*len(class_0) + [1]*len(class_1)\n",
    "    records = class_0 + class_1\n",
    "\n",
    "    questions = tf.ragged.constant([encode_sentence(s[0]) for s in records])\n",
    "    answers = tf.ragged.constant([encode_sentence(s[1]) for s in records])\n",
    "\n",
    "    cls = [tokenizer.convert_tokens_to_ids(['[CLS]'])]*questions.shape[0]\n",
    "    input_word_ids = tf.concat([cls, questions, answers], axis=-1)\n",
    "\n",
    "    input_mask = tf.ones_like(input_word_ids).to_tensor()\n",
    "\n",
    "    type_cls = tf.zeros_like(cls)\n",
    "    type_question = tf.zeros_like(questions)\n",
    "    type_answer = tf.ones_like(answers)\n",
    "    input_type_ids = tf.concat([type_cls, type_question, type_answer], axis=-1).to_tensor()\n",
    "\n",
    "    inputs = {\n",
    "        'input_word_ids': input_word_ids.to_tensor(),\n",
    "        'input_mask': input_mask,\n",
    "        'input_type_ids': input_type_ids}\n",
    "\n",
    "    return inputs, tf.convert_to_tensor(labels)"
   ]
  },
  {
   "cell_type": "code",
   "execution_count": null,
   "metadata": {},
   "outputs": [],
   "source": [
    "class DataGenerator(tf.keras.utils.Sequence):\n",
    "    'generates data batches'\n",
    "    def __init__(self, class_0, class_1, embed_len=180, batch_size=32, shuffle=True):\n",
    "        'Initialization'\n",
    "        self.text = class_0 + class_1\n",
    "        self.labels = [0]*len(class_0) + [1]*len(class_1)\n",
    "        self.embed_len = embed_len\n",
    "        self.batch_size = batch_size\n",
    "        self.shuffle = shuffle\n",
    "        self.count = len(self.text)\n",
    "        self.indexes = list(range(self.count))\n",
    "        self.data = [None]*len(self.text)\n",
    "        self.on_epoch_end()\n",
    "        \n",
    "        if self.shuffle:\n",
    "            random.shuffle(self.indexes)\n",
    "\n",
    "    def __len__(self):\n",
    "        'Denotes the number of batches per epoch'\n",
    "        return self.count // self.batch_size\n",
    "\n",
    "    def __getitem__(self, index):\n",
    "        'Generate one batch of data'\n",
    "        indexes = self.indexes[index*self.batch_size:(index+1)*self.batch_size]\n",
    "\n",
    "        inputs = {\n",
    "            'input_word_ids': [],\n",
    "            'input_mask': [],\n",
    "            'input_type_ids': []}\n",
    "        \n",
    "        outputs = []\n",
    "        \n",
    "        for i in indexes:\n",
    "            if not self.data[i]:\n",
    "                self.data[i] = encode_pair(self.text[i][0], self.text[i][1], self.embed_len)\n",
    "            for key in inputs:\n",
    "                inputs[key] += [self.data[i][key]]\n",
    "            outputs.append(self.labels[i])\n",
    "            \n",
    "        for key in inputs:\n",
    "            inputs[key] = tf.ragged.constant(inputs[key], inner_shape=(self.batch_size, self.embed_len))\n",
    "        outputs = tf.convert_to_tensor(outputs)\n",
    "\n",
    "        return inputs, outputs\n",
    "    \n",
    "    def get_dataset(self):\n",
    "        inputs = {\n",
    "            'input_word_ids': [],\n",
    "            'input_mask': [],\n",
    "            'input_type_ids': []}\n",
    "        \n",
    "        outputs = []\n",
    "        \n",
    "        for i in range(len(self.text)):\n",
    "            if not self.data[i]:\n",
    "                self.data[i] = encode_pair(self.text[i][0], self.text[i][1], self.embed_len)\n",
    "            for key in inputs:\n",
    "                inputs[key] += [self.data[i][key]]\n",
    "            outputs.append(self.labels[i])\n",
    "            \n",
    "        return inputs, outputs"
   ]
  },
  {
   "cell_type": "code",
   "execution_count": null,
   "metadata": {},
   "outputs": [],
   "source": [
    "# story batch + epoch results and dump to file if name is not empty\n",
    "class HistoryCallback(tf.keras.callbacks.Callback):\n",
    "\n",
    "    def __init__(self, file_name, history={'epoch': [], 'batch': []}):\n",
    "        self.history = history\n",
    "        self.name = file_name\n",
    "        self.epoch = None\n",
    "\n",
    "    def on_epoch_begin(self, epoch, logs=None):\n",
    "        self.epoch = epoch + 1\n",
    "        \n",
    "    def on_epoch_end(self, epoch, logs=None):\n",
    "        self.epoch = epoch + 1\n",
    "        logs['epoch'] = self.epoch\n",
    "        self.history['epoch'].append(logs)\n",
    "        \n",
    "        if self.name:\n",
    "            json_save(self.name, self.history)\n",
    "\n",
    "    def on_train_batch_end(self, batch, logs=None):\n",
    "        if logs and batch:\n",
    "            logs['batch'] = batch\n",
    "            logs['epoch'] = self.epoch\n",
    "            self.history['batch'].append(logs)"
   ]
  },
  {
   "cell_type": "code",
   "execution_count": null,
   "metadata": {},
   "outputs": [],
   "source": [
    "# create dataset for textual representation\n",
    "def create_train_set_samples(data):\n",
    "    class_0 = []\n",
    "    class_1 = []\n",
    "    \n",
    "    for k, v in data.items():\n",
    "        if v:\n",
    "            for i in v['generated']['right']:\n",
    "                class_1.append([v['vanilla']['question'], i['text'], 1])\n",
    "            for i in v['generated']['wrong']:\n",
    "                class_0.append([v['vanilla']['question'], i['text'], 0])\n",
    "\n",
    "    return class_0, class_1, 'quanswer'"
   ]
  },
  {
   "cell_type": "code",
   "execution_count": null,
   "metadata": {},
   "outputs": [],
   "source": [
    "# create dataset for concatenated labels\n",
    "def create_train_set_samples(data):\n",
    "    class_0 = []\n",
    "    class_1 = []\n",
    "    \n",
    "    for k, v in data.items():\n",
    "        if v:\n",
    "            for i in v['generated']['right']:\n",
    "                class_1.append([v['vanilla']['question'], ' '.join(i['labels']), 1])\n",
    "            for i in v['generated']['wrong']:\n",
    "                class_0.append([v['vanilla']['question'], ' '.join(i['labels']), 0])\n",
    "\n",
    "    return class_0, class_1, 'labels'"
   ]
  },
  {
   "cell_type": "code",
   "execution_count": null,
   "metadata": {},
   "outputs": [],
   "source": [
    "data_file = data_path + ['vanilla_qanswer_results']\n",
    "\n",
    "data = json_load(os.path.join(os.sep, *data_file))"
   ]
  },
  {
   "cell_type": "code",
   "execution_count": null,
   "metadata": {},
   "outputs": [],
   "source": [
    "class_0, class_1, dataset_name = create_train_set_samples(data)\n",
    "print(dataset_name)\n",
    "print(len(class_0))\n",
    "print(len(class_1))"
   ]
  },
  {
   "cell_type": "code",
   "execution_count": null,
   "metadata": {},
   "outputs": [],
   "source": [
    "file_pretrained = ['pretrained', 'bert_classifier.h5']\n",
    "\n",
    "def create_model(bert_classifier, epochs=100, batch_size=8, batches_per_epoch=1000, warmup_epochs=5):\n",
    "    num_train_steps = epochs*batch_size*batches_per_epoch\n",
    "    warmup_steps = batches_per_epoch*warmup_epochs\n",
    "\n",
    "    # creates an optimizer with learning rate schedule\n",
    "    optimizer = nlp.optimization.create_optimizer(\n",
    "        2e-5, num_train_steps=num_train_steps, num_warmup_steps=warmup_steps)\n",
    "\n",
    "    metrics = [tf.keras.metrics.SparseCategoricalAccuracy('accuracy', dtype=tf.float32)]\n",
    "    loss = tf.keras.losses.SparseCategoricalCrossentropy(from_logits=True)\n",
    "\n",
    "    bert_classifier.compile(\n",
    "        optimizer=optimizer,\n",
    "        loss=loss,\n",
    "        metrics=metrics)\n",
    "    \n",
    "    bert_classifier.load_weights(os.path.join(*file_pretrained))"
   ]
  },
  {
   "cell_type": "code",
   "execution_count": null,
   "metadata": {},
   "outputs": [],
   "source": [
    "def train_model(bert_classifier, \n",
    "                class_0, class_1, \n",
    "                valid_0, valid_1, \n",
    "                name,\n",
    "                epochs=100, \n",
    "                batch_size=8, \n",
    "                batches_per_epoch=1000, \n",
    "                warmup_epochs=5,\n",
    "                embed=96):\n",
    "    DG_train = DataGenerator(class_0, class_1, embed_len=embed, batch_size=batch_size)\n",
    "    valid_set, valid_labels = bert_encode(valid_0, valid_1, tokenizer)    \n",
    "\n",
    "    history = HistoryCallback(file_name=name, history={'epoch': [], 'batch': []})\n",
    "    \n",
    "    bert_classifier.fit(\n",
    "        DG_train,\n",
    "        steps_per_epoch=batches_per_epoch,\n",
    "        validation_data=(valid_set, valid_labels),\n",
    "        batch_size=batch_size,\n",
    "        epochs=epochs,\n",
    "        callbacks=[\n",
    "            history,\n",
    "            tf.keras.callbacks.EarlyStopping(monitor='val_accuracy',\n",
    "                                             mode='max',\n",
    "                                             patience=5,\n",
    "                                             restore_best_weights=True)\n",
    "        ],\n",
    "    )    "
   ]
  },
  {
   "cell_type": "code",
   "execution_count": null,
   "metadata": {
    "scrolled": true
   },
   "outputs": [],
   "source": [
    "number = 10\n",
    "\n",
    "bert_classifier, bert_encoder = bert_models.classifier_model(bert_config, num_labels=2)\n",
    "create_model(bert_classifier, batch_size=8, batches_per_epoch=1000)\n",
    "\n",
    "len_0 = len(class_0)\n",
    "len_1 = len(class_1)\n",
    "valid_0, valid_1 = class_0[:len_0 // 10], class_1[:len_1 // 10]\n",
    "class_0, class_1 = class_0[len_0 // 10:], class_1[len_1 // 10:]\n",
    "\n",
    "train_model(bert_classifier, class_0, class_1, valid_0, valid_1, f'h/{dataset_name}-{number}',\n",
    "            batch_size=8, batches_per_epoch=1000, embed=256)\n",
    "\n",
    "bert_classifier.save_weights(f'h/{dataset_name}-{number}.h5')"
   ]
  }
 ],
 "metadata": {
  "accelerator": "TPU",
  "colab": {
   "collapsed_sections": [],
   "name": "fine-tune-vanilla.ipynb",
   "provenance": []
  },
  "kernelspec": {
   "display_name": "Python 3",
   "language": "python",
   "name": "python3"
  },
  "language_info": {
   "codemirror_mode": {
    "name": "ipython",
    "version": 3
   },
   "file_extension": ".py",
   "mimetype": "text/x-python",
   "name": "python",
   "nbconvert_exporter": "python",
   "pygments_lexer": "ipython3",
   "version": "3.7.3"
  }
 },
 "nbformat": 4,
 "nbformat_minor": 1
}
