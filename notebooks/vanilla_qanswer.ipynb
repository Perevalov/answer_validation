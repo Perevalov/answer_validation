{
 "cells": [
  {
   "cell_type": "code",
   "execution_count": 2,
   "metadata": {},
   "outputs": [],
   "source": [
    "import json\n",
    "import requests\n",
    "from tqdm import tqdm\n",
    "import time"
   ]
  },
  {
   "cell_type": "code",
   "execution_count": 3,
   "metadata": {},
   "outputs": [],
   "source": [
    "def json_load(name):\n",
    "    with open(f'{name}', 'r', encoding = 'utf-8') as f:\n",
    "        return json.load(f)\n",
    "    \n",
    "def json_save(name, item):\n",
    "    with open(f'{name}', 'w', encoding = 'utf-8') as f:\n",
    "        json.dump(item, f, ensure_ascii = False, indent = 4)\n",
    "        \n",
    "def read_vanilla(name):\n",
    "    with open(name) as f:\n",
    "        data_tmp = f.readlines()\n",
    "\n",
    "    data = list()\n",
    "    for q in data_tmp:\n",
    "        data.append(json.loads(q))\n",
    "        \n",
    "    return data"
   ]
  },
  {
   "cell_type": "code",
   "execution_count": 30,
   "metadata": {},
   "outputs": [],
   "source": [
    "test = read_vanilla(\"../data/VANILLA/Extended_Dataset_Test.json\")"
   ]
  },
  {
   "cell_type": "code",
   "execution_count": 32,
   "metadata": {},
   "outputs": [
    {
     "data": {
      "text/plain": [
       "({'answer': 'male',\n",
       "  'answer_sentence': 'sterjo is a male.',\n",
       "  'question': 'Which sex does Claude Nicolas Emmery possess ?',\n",
       "  'question_entity_label': 'Claude Nicolas Emmery',\n",
       "  'question_id': 58504,\n",
       "  'question_relation': 'P21'},\n",
       " 21434,\n",
       " 107166,\n",
       " {'answer': 'Sumi Yukawa',\n",
       "  'answer_sentence': 'sumi yukawa is the spouse of hideki yukawa',\n",
       "  'question': 'Who is the spouse of Hideki Yukawa ?',\n",
       "  'question_entity_label': 'Hideki Yukawa',\n",
       "  'question_id': 2,\n",
       "  'question_relation': 'P26'})"
      ]
     },
     "execution_count": 32,
     "metadata": {},
     "output_type": "execute_result"
    }
   ],
   "source": [
    "test[0], len(test)"
   ]
  },
  {
   "cell_type": "code",
   "execution_count": 57,
   "metadata": {},
   "outputs": [
    {
     "name": "stderr",
     "output_type": "stream",
     "text": [
      "\r",
      "  0%|          | 0/5 [00:00<?, ?it/s]"
     ]
    },
    {
     "name": "stdout",
     "output_type": "stream",
     "text": [
      "0\n"
     ]
    },
    {
     "name": "stderr",
     "output_type": "stream",
     "text": [
      "100%|██████████| 5/5 [00:11<00:00,  2.22s/it]"
     ]
    },
    {
     "name": "stdout",
     "output_type": "stream",
     "text": [
      "5\n"
     ]
    },
    {
     "name": "stderr",
     "output_type": "stream",
     "text": [
      "\n"
     ]
    }
   ],
   "source": [
    "qanswer_test_responses = list()\n",
    "cnt = 0\n",
    "for q in tqdm(test):\n",
    "    question = q['question']\n",
    "\n",
    "    response = requests.get(\n",
    "        \"https://qanswer-core1.univ-st-etienne.fr/api/qa/full?question={0}&lang=en&kb=wikidata\".format(question)\n",
    "    ).json()['queries']\n",
    "    \n",
    "    qanswer_test_responses.append({\n",
    "        'question_id': q['question_id'],\n",
    "        'response': [{'query': r['query'], 'confidence': r['confidence']} for r in response]\n",
    "    })\n",
    "    \n",
    "    if cnt%50 == 0:\n",
    "        print(cnt)\n",
    "        json_save(\"../processed_data/VANILLA/qanswer_test_responses.json\", qanswer_test_responses)\n",
    "    \n",
    "    time.sleep(1)\n",
    "    cnt += 1\n",
    "    \n",
    "print(cnt)\n",
    "json_save(\"../processed_data/VANILLA/qanswer_test_responses.json\", qanswer_test_responses)"
   ]
  },
  {
   "cell_type": "markdown",
   "metadata": {},
   "source": [
    "## Execute each query-candidate and write result"
   ]
  },
  {
   "cell_type": "code",
   "execution_count": 23,
   "metadata": {},
   "outputs": [],
   "source": [
    "import json\n",
    "import re\n",
    "import time\n",
    "from SPARQLWrapper import SPARQLWrapper, JSON\n",
    "\n",
    "sparql = SPARQLWrapper(\"https://query.wikidata.org/bigdata/namespace/wdq/sparql\")"
   ]
  },
  {
   "cell_type": "code",
   "execution_count": 4,
   "metadata": {},
   "outputs": [],
   "source": [
    "qanswer_results = json_load(\"../processed_data/VANILLA/qanswer_test_responses.json\")"
   ]
  },
  {
   "cell_type": "code",
   "execution_count": 49,
   "metadata": {},
   "outputs": [
    {
     "name": "stdout",
     "output_type": "stream",
     "text": [
      "--------- 58504 -----------\n",
      "0\n",
      "1\n"
     ]
    }
   ],
   "source": [
    "qanswer_results_new = list()\n",
    "cnt = 0\n",
    "for q in qanswer_results[:1]:\n",
    "    print(\"---------\", q['question_id'], \"-----------\")\n",
    "\n",
    "    response = list()\n",
    "\n",
    "    for r in q['response']:\n",
    "        try:\n",
    "            sparql.setQuery(r['query'])\n",
    "            sparql.setReturnFormat(JSON)\n",
    "            results = sparql.query().convert()\n",
    "            result = results[\"results\"][\"bindings\"]\n",
    "            time.sleep(0.5)\n",
    "        except:\n",
    "            result = list()\n",
    "\n",
    "        response.append({'query': r['query'], 'confidence': r['confidence'], 'result': result})\n",
    "\n",
    "    qanswer_results_new.append({'question_id': q['question_id'], 'response': response})\n",
    "    \n",
    "    if cnt%50 == 0:\n",
    "        print(\"SAVED\", cnt)\n",
    "        json_save(\"../processed_data/VANILLA/qanswer_test_responses_extended.json\", qanswer_results_new)\n",
    "        \n",
    "    cnt += 1\n",
    "    break\n",
    "    \n",
    "print(\"SAVED\", cnt)\n",
    "json_save(\"../processed_data/VANILLA/qanswer_test_responses_extended.json\", qanswer_results_new)"
   ]
  },
  {
   "cell_type": "code",
   "execution_count": null,
   "metadata": {},
   "outputs": [],
   "source": []
  }
 ],
 "metadata": {
  "kernelspec": {
   "display_name": "Python 3",
   "language": "python",
   "name": "python3"
  },
  "language_info": {
   "codemirror_mode": {
    "name": "ipython",
    "version": 3
   },
   "file_extension": ".py",
   "mimetype": "text/x-python",
   "name": "python",
   "nbconvert_exporter": "python",
   "pygments_lexer": "ipython3",
   "version": "3.7.3"
  }
 },
 "nbformat": 4,
 "nbformat_minor": 4
}
