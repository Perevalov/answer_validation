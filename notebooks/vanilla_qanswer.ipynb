{
 "cells": [
  {
   "cell_type": "code",
   "execution_count": 53,
   "metadata": {},
   "outputs": [],
   "source": [
    "import json\n",
    "import requests\n",
    "from tqdm import tqdm_notebook as tqdm\n",
    "from scipy.special import softmax\n",
    "\n",
    "import time\n",
    "import sys\n",
    "sys.path.append(\"..\")\n",
    "from scripts import evaluate_answer"
   ]
  },
  {
   "cell_type": "code",
   "execution_count": 45,
   "metadata": {},
   "outputs": [],
   "source": [
    "headers = {\n",
    "    \"Content-Type\": \"application/json\",\n",
    "    'accept': 'application/json'\n",
    "}"
   ]
  },
  {
   "cell_type": "code",
   "execution_count": 6,
   "metadata": {},
   "outputs": [],
   "source": [
    "def json_load(name):\n",
    "    with open(f'{name}', 'r', encoding = 'utf-8') as f:\n",
    "        return json.load(f)\n",
    "    \n",
    "def json_save(name, item):\n",
    "    with open(f'{name}', 'w', encoding = 'utf-8') as f:\n",
    "        json.dump(item, f, ensure_ascii = False, indent = 4)\n",
    "        \n",
    "def read_vanilla(name):\n",
    "    with open(name) as f:\n",
    "        data_tmp = f.readlines()\n",
    "\n",
    "    data = list()\n",
    "    for q in data_tmp:\n",
    "        data.append(json.loads(q))\n",
    "        \n",
    "    return data"
   ]
  },
  {
   "cell_type": "code",
   "execution_count": 7,
   "metadata": {},
   "outputs": [],
   "source": [
    "# vanilla test dataset\n",
    "test = read_vanilla(\"../data/VANILLA/Extended_Dataset_Test.json\")\n",
    "# responses for the test dataset from QAnswer (the order of SPARQLs is not changed)\n",
    "responses = json_load(\"../processed_data/VANILLA/qanswer_test_responses_extended-0-1000.json\") # first thousand\n",
    "# labels, obtained for each response of QAnswer (see file above)\n",
    "labels = json_load(\"../processed_data/VANILLA/qanswer_test_responses_labels.json\")\n",
    "# contains if a particular SPARQL candidate is True (correct) or not\n",
    "is_true = json_load(\"../processed_data/VANILLA/is_true.json\")"
   ]
  },
  {
   "cell_type": "markdown",
   "metadata": {},
   "source": [
    "The **files above** were prepared as follows:\n",
    "\n",
    "* `test` -- default test split of VANILLA\n",
    "* `responses` -- at first run `scripts/vanilla_qanswer.py`, then run `scripts/vanilla_run_sparql_candidates_on_wikidata.py`\n",
    "* `labels` -- run `scripts/get_vanilla_labels_wikidata.py`\n",
    "* `is_true` -- run `scripts/vanilla_get_right_answers.py`"
   ]
  },
  {
   "cell_type": "code",
   "execution_count": 35,
   "metadata": {},
   "outputs": [],
   "source": [
    "def precision_at_k(data, k=1):\n",
    "    \"\"\"\n",
    "    How many relevant items are present in the top-k recommendations of the system\n",
    "    \"\"\"\n",
    "    assert k > 0\n",
    "    prec = list()\n",
    "    for q in data:\n",
    "        cnt = 0\n",
    "        for i in range(len(q['response'])):\n",
    "            if i + 1 <= k: # take first k responses\n",
    "                if q['response'][i]['is_true']:\n",
    "                    cnt +=1\n",
    "        prec.append(cnt/k)\n",
    "        \n",
    "    return sum(prec)/len(prec)"
   ]
  },
  {
   "cell_type": "code",
   "execution_count": 36,
   "metadata": {},
   "outputs": [
    {
     "data": {
      "text/plain": [
       "{'query': 'SELECT DISTINCT ?o1 WHERE { \\t <http://www.wikidata.org/entity/Q8316084>  <http://www.wikidata.org/prop/direct/P21>  ?o1 .  }  LIMIT 1000',\n",
       " 'confidence': 0.49,\n",
       " 'result': [{'o1': {'type': 'uri',\n",
       "    'value': 'http://www.wikidata.org/entity/Q6581097'}}],\n",
       " 'is_true': True}"
      ]
     },
     "execution_count": 36,
     "metadata": {},
     "output_type": "execute_result"
    }
   ],
   "source": [
    "responses[0]['response'][0]"
   ]
  },
  {
   "cell_type": "code",
   "execution_count": 39,
   "metadata": {},
   "outputs": [],
   "source": [
    "# unify data\n",
    "for i in range(len(responses[:250])):\n",
    "    for j in range(len(responses[i]['response'])):\n",
    "        responses[i]['response'][j]['is_true'] = is_true[i]['answer_list'][j]"
   ]
  },
  {
   "cell_type": "code",
   "execution_count": 51,
   "metadata": {},
   "outputs": [
    {
     "data": {
      "text/plain": [
       "(0.404, 0.18160000000000004)"
      ]
     },
     "execution_count": 51,
     "metadata": {},
     "output_type": "execute_result"
    }
   ],
   "source": [
    "precision_at_k(responses[:250], 1), precision_at_k(responses[:250], 5)"
   ]
  },
  {
   "cell_type": "code",
   "execution_count": 83,
   "metadata": {},
   "outputs": [
    {
     "name": "stderr",
     "output_type": "stream",
     "text": [
      "/data/benchmarking_RuBQ/benchmarking_RuBQ-env/lib/python3.7/site-packages/ipykernel_launcher.py:4: TqdmDeprecationWarning: This function will be removed in tqdm==5.0.0\n",
      "Please use `tqdm.notebook.tqdm` instead of `tqdm.tqdm_notebook`\n",
      "  after removing the cwd from sys.path.\n"
     ]
    },
    {
     "data": {
      "application/vnd.jupyter.widget-view+json": {
       "model_id": "f2f3fd189a1e40f5a12f04d2edd45ba6",
       "version_major": 2,
       "version_minor": 0
      },
      "text/plain": [
       "HBox(children=(FloatProgress(value=0.0, max=250.0), HTML(value='')))"
      ]
     },
     "metadata": {},
     "output_type": "display_data"
    },
    {
     "name": "stdout",
     "output_type": "stream",
     "text": [
      "\n"
     ]
    }
   ],
   "source": [
    "# filter answer candidates and create new dataset for evaluation\n",
    "qanswer_results_filtered = list()\n",
    "\n",
    "for i in tqdm(range(len(responses[:250]))): # iterate over questions\n",
    "    question_text = test[i]['question']\n",
    "    # START: here goes the code used to predict is answer valid or not\n",
    "    batch = list()\n",
    "    for j in range(len(labels[i]['responses'])):\n",
    "        answer_text = ' '.join(t for t in labels[i]['responses'][j])\n",
    "        batch.append([question_text, answer_text])\n",
    "    \n",
    "    data = json.dumps(batch, ensure_ascii=False)\n",
    "    data = data.encode('ascii', 'ignore').strip()\n",
    "\n",
    "    json_response = requests.post('http://webengineering.ins.hs-anhalt.de:41003/predict',\n",
    "                                  data=data,\n",
    "                                  headers=headers)\n",
    "\n",
    "    preds = json_response.json()['predictions'] # get predictions for the q-a tuples set\n",
    "    outputs = json_response.json()['outputs']\n",
    "    # END: here goes the code used to predict is answer valid or not\n",
    "    \n",
    "    answers = list()\n",
    "    for j in range(len(preds)): # iterate over predictions for each candidate\n",
    "        if not preds[j] and max(softmax(outputs[j])) > 0.99: # if model says NOT TRUE we check how confident it is\n",
    "            continue\n",
    "        else:\n",
    "            answers.append({'is_true': responses[i]['response'][j]['is_true']})\n",
    "    qanswer_results_filtered.append({'response': answers})"
   ]
  },
  {
   "cell_type": "code",
   "execution_count": 85,
   "metadata": {},
   "outputs": [
    {
     "data": {
      "text/plain": [
       "(0.064, 0.020800000000000006)"
      ]
     },
     "execution_count": 85,
     "metadata": {},
     "output_type": "execute_result"
    }
   ],
   "source": [
    "precision_at_k(qanswer_results_filtered, 1), precision_at_k(qanswer_results_filtered, 5)"
   ]
  },
  {
   "cell_type": "code",
   "execution_count": null,
   "metadata": {},
   "outputs": [],
   "source": []
  }
 ],
 "metadata": {
  "kernelspec": {
   "display_name": "Python 3",
   "language": "python",
   "name": "python3"
  },
  "language_info": {
   "codemirror_mode": {
    "name": "ipython",
    "version": 3
   },
   "file_extension": ".py",
   "mimetype": "text/x-python",
   "name": "python",
   "nbconvert_exporter": "python",
   "pygments_lexer": "ipython3",
   "version": "3.7.3"
  }
 },
 "nbformat": 4,
 "nbformat_minor": 4
}
