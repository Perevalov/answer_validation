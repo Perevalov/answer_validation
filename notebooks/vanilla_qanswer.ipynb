{
 "cells": [
  {
   "cell_type": "code",
   "execution_count": 6,
   "metadata": {},
   "outputs": [],
   "source": [
    "import json\n",
    "import requests\n",
    "from tqdm import tqdm_notebook as tqdm\n",
    "from scipy.special import softmax\n",
    "import re\n",
    "import time\n",
    "import sys\n",
    "import math\n",
    "sys.path.append(\"..\")\n",
    "from scripts import evaluate_answer"
   ]
  },
  {
   "cell_type": "code",
   "execution_count": 7,
   "metadata": {},
   "outputs": [],
   "source": [
    "headers = {\n",
    "    \"Content-Type\": \"application/json\",\n",
    "    'accept': 'application/json'\n",
    "}"
   ]
  },
  {
   "cell_type": "code",
   "execution_count": 8,
   "metadata": {},
   "outputs": [],
   "source": [
    "def json_load(name):\n",
    "    with open(f'{name}', 'r', encoding = 'utf-8') as f:\n",
    "        return json.load(f)\n",
    "    \n",
    "def json_save(name, item):\n",
    "    with open(f'{name}', 'w', encoding = 'utf-8') as f:\n",
    "        json.dump(item, f, ensure_ascii = False, indent = 4)\n",
    "        \n",
    "def read_vanilla(name):\n",
    "    with open(name) as f:\n",
    "        data_tmp = f.readlines()\n",
    "\n",
    "    data = list()\n",
    "    for q in data_tmp:\n",
    "        data.append(json.loads(q))\n",
    "        \n",
    "    return data"
   ]
  },
  {
   "cell_type": "code",
   "execution_count": 26,
   "metadata": {},
   "outputs": [],
   "source": [
    "# vanilla test dataset\n",
    "test = read_vanilla(\"../data/VANILLA/Extended_Dataset_Test.json\")\n",
    "# responses for the test dataset from QAnswer (the order of SPARQLs is not changed)\n",
    "responses = json_load(\"../processed_data/VANILLA/qanswer_test_responses_extended-0-7000.json\") # first thousand\n",
    "# labels, obtained for each response of QAnswer (see file above)\n",
    "labels = json_load(\"../processed_data/VANILLA/qanswer_test_responses_labels-tmp.json\")\n",
    "# contains if a particular SPARQL candidate is True (correct) or not\n",
    "is_true = json_load(\"../processed_data/VANILLA/is_true-tmp.json\")\n",
    "# data built based on AlGA\n",
    "alga_responses = json_load(\"../processed_data/VANILLA/vanilla_5000_evaluate_labels-int.json\")\n",
    "# full test provided by AlGa\n",
    "full_test = json_load(\"../processed_data/VANILLA/full_test_evaluate_labels-int.json\")"
   ]
  },
  {
   "cell_type": "markdown",
   "metadata": {},
   "source": [
    "# ==========="
   ]
  },
  {
   "cell_type": "code",
   "execution_count": 372,
   "metadata": {},
   "outputs": [],
   "source": [
    "eval_5k = json_load(\"../processed_data/VANILLA/vanilla_5000_evaluate.json\")\n",
    "# eval_5k = json_load(\"../processed_data/VANILLA/vanilla-5000-eval.json\")"
   ]
  },
  {
   "cell_type": "code",
   "execution_count": 19,
   "metadata": {},
   "outputs": [],
   "source": [
    "\"\"\"test_full = list()\n",
    "for d in all_test:\n",
    "    response = list()\n",
    "    for candidate in d['SPARQL list']:\n",
    "        candidate_precision = 0 if not candidate['response'] or len(candidate['response']) == 0 else int(candidate['evaluate'][0]/candidate['evaluate'][1])\n",
    "        is_true = False if candidate_precision < 0.5 else True\n",
    "        response.append({'is_true': is_true})\n",
    "        \n",
    "    item = {\n",
    "        'question': d['question'],\n",
    "        'quesiton_id': d['question_id'],\n",
    "        'response': response\n",
    "    }\n",
    "    test_full.append(item)\"\"\""
   ]
  },
  {
   "cell_type": "code",
   "execution_count": 369,
   "metadata": {},
   "outputs": [],
   "source": [
    "\"\"\"alga_responses = list()\n",
    "for d in eval_5k:\n",
    "    item = {\n",
    "        'quesiton_id': d['question_id'],\n",
    "        'response': [{'query': i['SPARQL'], 'is_true': i['eval']} for i in d['SPARQLs']]\n",
    "    }\n",
    "    alga_responses.append(item)\"\"\""
   ]
  },
  {
   "cell_type": "code",
   "execution_count": 211,
   "metadata": {},
   "outputs": [],
   "source": [
    "eval_5k = json_load(\"../processed_data/VANILLA/vanilla-5000-eval.json\")"
   ]
  },
  {
   "cell_type": "code",
   "execution_count": 5,
   "metadata": {},
   "outputs": [
    {
     "data": {
      "text/plain": [
       "(7000, 5516, 6897)"
      ]
     },
     "execution_count": 5,
     "metadata": {},
     "output_type": "execute_result"
    }
   ],
   "source": [
    "len(responses), len(labels), len(is_true) "
   ]
  },
  {
   "cell_type": "markdown",
   "metadata": {},
   "source": [
    "# ============="
   ]
  },
  {
   "cell_type": "markdown",
   "metadata": {},
   "source": [
    "## The **files above** were prepared as follows:\n",
    "\n",
    "* `test` -- default test split of VANILLA\n",
    "* `responses` -- at first run `scripts/vanilla_qanswer.py`, then run `scripts/vanilla_run_sparql_candidates_on_wikidata.py`\n",
    "* `labels` -- run `scripts/get_vanilla_labels_wikidata.py`\n",
    "* `is_true` -- run `scripts/vanilla_get_right_answers.py`"
   ]
  },
  {
   "cell_type": "code",
   "execution_count": 28,
   "metadata": {},
   "outputs": [],
   "source": [
    "def precision_at_k(data, k=1):\n",
    "    \"\"\"\n",
    "    How many relevant items are present in the top-k recommendations of the system\n",
    "    \"\"\"\n",
    "    assert k > 0\n",
    "    prec = list()\n",
    "    \n",
    "    for q in data: # for each question\n",
    "        cnt = 0\n",
    "        for i in range(len(q['response'][:k])): # for each response in question\n",
    "            if q['response'][i]['is_true']:\n",
    "                if i < k: # count only first k responses\n",
    "                    cnt += 1\n",
    "                    \n",
    "        prec.append(cnt/k)\n",
    "        \n",
    "    return sum(prec)/len(prec) # average precision"
   ]
  },
  {
   "cell_type": "code",
   "execution_count": 29,
   "metadata": {},
   "outputs": [],
   "source": [
    "def ndcg_at_k(data, k=1):\n",
    "    \"\"\"\n",
    "    Normalized Discounted Cumulative Gain\n",
    "    \"\"\"\n",
    "    assert k > 0\n",
    "    \n",
    "    ndcg = list()\n",
    "    for q in data: # for each question\n",
    "        dcg, idcg = list(), list()\n",
    "        for i in range(len(q['response'][:k])): # for each response in question\n",
    "            rel_i = 2**int(q['response'][i]['is_true'])\n",
    "            log_i = math.log2(i + 1 + 1) # start with i = 1, not with 0\n",
    "            dcg_i = (rel_i - 1)/log_i\n",
    "            dcg.append(dcg_i)\n",
    "        \n",
    "        rel_cnt = 0 # counter of relevant docs\n",
    "        for i in range(len(q['response'])):\n",
    "            if q['response'][i]['is_true'] and rel_cnt < k: # only over a set of relevant docs limited @ k\n",
    "                log_i = math.log2(rel_cnt + 1 + 1) # start with rel_cnt = 1, not with 0\n",
    "                idcg_i = (2**int(q['response'][i]['is_true']) - 1)/log_i\n",
    "                rel_cnt += 1\n",
    "                idcg.append(idcg_i)\n",
    "    \n",
    "        if len(idcg) == 0:\n",
    "            ndcg.append(0)\n",
    "        else:\n",
    "            ndcg.append(sum(dcg)/sum(idcg))\n",
    "\n",
    "    return sum(ndcg)/len(ndcg)"
   ]
  },
  {
   "cell_type": "code",
   "execution_count": 23,
   "metadata": {},
   "outputs": [],
   "source": [
    "\"\"\"def find_by_id(id_, data):\n",
    "    for d in data:\n",
    "        if d['question_id'] == id_:\n",
    "            return d\n",
    "        \n",
    "    assert False\"\"\""
   ]
  },
  {
   "cell_type": "code",
   "execution_count": 309,
   "metadata": {},
   "outputs": [],
   "source": [
    "\"\"\"# unify data\n",
    "for i in range(len(responses[:5000])):\n",
    "    is_true_i = find_by_id(responses[i]['question_id'], is_true)\n",
    "    \n",
    "    assert responses[i]['question_id'] == is_true_i['question_id']\n",
    "    \n",
    "    for j in range(len(responses[i]['response'])):\n",
    "        try:\n",
    "            responses[i]['response'][j]['is_true'] = is_true_i['answer_list'][j]\n",
    "        except:\n",
    "            responses[i]['response'][j]['is_true'] = False\"\"\""
   ]
  },
  {
   "cell_type": "code",
   "execution_count": 41,
   "metadata": {},
   "outputs": [
    {
     "data": {
      "text/plain": [
       "(0.22, 0.11200000000000004)"
      ]
     },
     "execution_count": 41,
     "metadata": {},
     "output_type": "execute_result"
    }
   ],
   "source": [
    "precision_at_k(full_test[:50], 1), precision_at_k(full_test[:50], 5)"
   ]
  },
  {
   "cell_type": "code",
   "execution_count": 42,
   "metadata": {},
   "outputs": [
    {
     "data": {
      "text/plain": [
       "(0.22, 0.3026036483450379)"
      ]
     },
     "execution_count": 42,
     "metadata": {},
     "output_type": "execute_result"
    }
   ],
   "source": [
    "ndcg_at_k(full_test[:50], 1), ndcg_at_k(full_test[:50], 5)"
   ]
  },
  {
   "cell_type": "code",
   "execution_count": 36,
   "metadata": {},
   "outputs": [
    {
     "name": "stderr",
     "output_type": "stream",
     "text": [
      "/data/benchmarking_RuBQ/benchmarking_RuBQ-env/lib/python3.7/site-packages/ipykernel_launcher.py:4: TqdmDeprecationWarning: This function will be removed in tqdm==5.0.0\n",
      "Please use `tqdm.notebook.tqdm` instead of `tqdm.tqdm_notebook`\n",
      "  after removing the cwd from sys.path.\n"
     ]
    },
    {
     "data": {
      "application/vnd.jupyter.widget-view+json": {
       "model_id": "3507fc1dbcf74607bbaf684beb7b8d9d",
       "version_major": 2,
       "version_minor": 0
      },
      "text/plain": [
       "HBox(children=(FloatProgress(value=0.0, max=8803.0), HTML(value='')))"
      ]
     },
     "metadata": {},
     "output_type": "display_data"
    },
    {
     "name": "stdout",
     "output_type": "stream",
     "text": [
      "\n"
     ]
    }
   ],
   "source": [
    "# filter answer candidates and create new dataset for evaluation\n",
    "# qanswer_results_filtered = list()\n",
    "\n",
    "for q in tqdm(full_test[len(qanswer_results_filtered):]): # iterate over questions\n",
    "    # assert responses[i]['question_id'] == test[i]['question_id'] and test[i]['question_id'] == labels[i]['question_id']\n",
    "    \n",
    "    question_text = q['question']\n",
    "    # START: here goes the code used to predict is answer valid or not\n",
    "    batch = list()\n",
    "    for j in range(len(q['response'])):\n",
    "        answer_text = q['response'][j]['label']\n",
    "        batch.append([question_text, answer_text])\n",
    "    \n",
    "    data = json.dumps(batch, ensure_ascii=False)\n",
    "    data = data.encode('ascii', 'ignore').strip()\n",
    "\n",
    "    json_response = requests.post('http://10.144.43.10:41003/predict',\n",
    "                                  data=data,\n",
    "                                  headers=headers)\n",
    "    \n",
    "    preds = json_response.json()['predictions'] # get predictions for the q-a tuples set\n",
    "    outputs = json_response.json()['outputs']\n",
    "    # END: here goes the code used to predict is answer valid or not\n",
    "    \n",
    "    answers = list()\n",
    "    for j in range(len(preds)): # iterate over predictions for each candidate\n",
    "        if not preds[j] and max(softmax(outputs[j])) > 0.99: # if model says NOT TRUE we check how confident it is\n",
    "            continue\n",
    "        else:\n",
    "            answers.append({'is_true': q['response'][j]['is_true']})\n",
    "    qanswer_results_filtered.append({'response': answers})"
   ]
  },
  {
   "cell_type": "code",
   "execution_count": 38,
   "metadata": {},
   "outputs": [
    {
     "data": {
      "text/plain": [
       "(0.2948073701842546, 0.11830262423227819)"
      ]
     },
     "execution_count": 38,
     "metadata": {},
     "output_type": "execute_result"
    }
   ],
   "source": [
    "precision_at_k(qanswer_results_filtered, 1), precision_at_k(qanswer_results_filtered, 5)"
   ]
  },
  {
   "cell_type": "code",
   "execution_count": 39,
   "metadata": {},
   "outputs": [
    {
     "data": {
      "text/plain": [
       "(0.2948073701842546, 0.3787585257378004)"
      ]
     },
     "execution_count": 39,
     "metadata": {},
     "output_type": "execute_result"
    }
   ],
   "source": [
    "ndcg_at_k(qanswer_results_filtered, 1), ndcg_at_k(qanswer_results_filtered, 5)"
   ]
  },
  {
   "cell_type": "code",
   "execution_count": null,
   "metadata": {},
   "outputs": [],
   "source": [
    "# 0.3028, 0.4234566666666666\n",
    "# 0.3028, 0.45180666666666663"
   ]
  },
  {
   "cell_type": "code",
   "execution_count": 37,
   "metadata": {},
   "outputs": [],
   "source": [
    "json_save(\"../processed_data/VANILLA/qanswer_results_full_filtered-int.json\", qanswer_results_filtered)\n",
    "# qanswer_results_filtered = json_load(\"../processed_data/VANILLA/qanswer_results_filtered.json\")"
   ]
  },
  {
   "cell_type": "code",
   "execution_count": 395,
   "metadata": {},
   "outputs": [
    {
     "name": "stdout",
     "output_type": "stream",
     "text": [
      "-43.909800000000004\n"
     ]
    }
   ],
   "source": [
    "_ = list()\n",
    "for q in qanswer_results_filtered:\n",
    "    _.append(len(q['response']))\n",
    "\n",
    "print(sum(_)/len(_) - 60)"
   ]
  },
  {
   "cell_type": "code",
   "execution_count": null,
   "metadata": {},
   "outputs": [],
   "source": []
  }
 ],
 "metadata": {
  "kernelspec": {
   "display_name": "Python 3",
   "language": "python",
   "name": "python3"
  },
  "language_info": {
   "codemirror_mode": {
    "name": "ipython",
    "version": 3
   },
   "file_extension": ".py",
   "mimetype": "text/x-python",
   "name": "python",
   "nbconvert_exporter": "python",
   "pygments_lexer": "ipython3",
   "version": "3.7.3"
  }
 },
 "nbformat": 4,
 "nbformat_minor": 4
}
